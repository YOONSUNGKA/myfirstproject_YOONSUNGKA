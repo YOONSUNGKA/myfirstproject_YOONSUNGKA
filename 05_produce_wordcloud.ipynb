{
 "cells": [
  {
   "cell_type": "code",
   "execution_count": 5,
   "id": "5a8ba58b",
   "metadata": {},
   "outputs": [],
   "source": [
    "# 필요 라이브러리 불러오기\n",
    "import warnings\n",
    "warnings.filterwarnings('ignore')\n",
    "import pandas as pd\n",
    "import konlpy\n",
    "okt = konlpy.tag.Okt()\n",
    "import matplotlib.pyplot as plt\n",
    "from matplotlib import font_manager, rc\n",
    "plt.rcParams['axes.unicode_minus'] = False\n",
    "f_path = 'c:/Windows/Fonts/HYHWPEQ.TTF'\n",
    "font_name = font_manager.FontProperties(fname = f_path).get_name()\n",
    "rc('font', family = font_name)\n",
    "\n",
    "import seaborn as sns\n",
    "import PIL\n",
    "icon = PIL.Image.open('../First_project/dataes/national_assembly.png')\n",
    "import numpy as np\n",
    "img = PIL.Image.new(\"RGB\", icon.size, (255,255,255))\n",
    "img.paste(icon, icon)\n",
    "img = np.array(img)\n",
    "from wordcloud import WordCloud"
   ]
  },
  {
   "cell_type": "code",
   "execution_count": 6,
   "id": "e2411a38",
   "metadata": {},
   "outputs": [
    {
     "name": "stdout",
     "output_type": "stream",
     "text": [
      "<class 'pandas.core.frame.DataFrame'>\n",
      "Index: 17323 entries, 0 to 18456\n",
      "Data columns (total 6 columns):\n",
      " #   Column       Non-Null Count  Dtype \n",
      "---  ------       --------------  ----- \n",
      " 0   date         17323 non-null  object\n",
      " 1   confer_num   17323 non-null  int64 \n",
      " 2   confer_name  17323 non-null  object\n",
      " 3   dept_cd      17323 non-null  int64 \n",
      " 4   con_name_kr  17323 non-null  object\n",
      " 5   speaking     17323 non-null  object\n",
      "dtypes: int64(2), object(4)\n",
      "memory usage: 947.4+ KB\n"
     ]
    }
   ],
   "source": [
    "# 회의록 df 불러오기\n",
    "df = pd.read_csv('../First_project/dataes/04_21st_main_conf_change_columns.csv',\n",
    "                 index_col = 0,\n",
    "                 encoding = 'UTF-8')\n",
    "df.info()"
   ]
  },
  {
   "cell_type": "code",
   "execution_count": 4,
   "id": "6807ca16",
   "metadata": {},
   "outputs": [],
   "source": [
    "# 의원목록 df 불러오기\n",
    "df1 = pd.read_csv('../First_project/dataes/Congress_members_fin.csv')"
   ]
  },
  {
   "cell_type": "code",
   "execution_count": 8,
   "id": "e9b383ea",
   "metadata": {},
   "outputs": [
    {
     "data": {
      "text/plain": [
       "pandas.core.series.Series"
      ]
     },
     "execution_count": 8,
     "metadata": {},
     "output_type": "execute_result"
    }
   ],
   "source": [
    "# deptCds변수에 의원목록 'deptCd' 호출하여 Series 생성\n",
    "dept_cds = df1['dept_cd']\n",
    "type(dept_cds)"
   ]
  },
  {
   "cell_type": "code",
   "execution_count": null,
   "id": "8a28f25a",
   "metadata": {},
   "outputs": [],
   "source": [
    "# 297명 의원에 대한 워드클라우드 생성하여 png파일로 저장\n",
    "# 국회(부)의장 혹은 발언기록이 없는 의원은 예외처리\n",
    "except_word = {'국회(부)의장 또는 본회의 발언 기록이 존재하지 않습니다.' : 11}\n",
    "for i in range(len(dept_cds)):\n",
    "    tmp = df[df['dept_cd'] == df1['dept_cd'][i]]\n",
    "    \n",
    "    nouns = tmp['speaking'].apply(okt.nouns)\n",
    "    nouns = nouns.explode()\n",
    "    df_word = pd.DataFrame({'word' : nouns})\n",
    "    df_word['count'] = df_word['word'].str.len()\n",
    "    df_word = df_word.query('count >= 2')\n",
    "    df_word = df_word.groupby(\n",
    "              'word', as_index = False\n",
    "              ).agg(\n",
    "                  n = ('word', 'count')\n",
    "                  ).sort_values('n', ascending = False)\n",
    "    dic_word = df_word.set_index('word').to_dict()['n']\n",
    "        \n",
    "    wc = WordCloud(random_state=6000,\n",
    "              font_path = \"c:/Windows/Fonts/malgunbd.ttf\",\n",
    "              width = 400, height = 400,\n",
    "              background_color = 'white',\n",
    "              mask = img, colormap='inferno')\n",
    "    \n",
    "    try:\n",
    "        img_wordcloud = wc.generate_from_frequencies(dic_word)\n",
    "    except:\n",
    "        img_wordcloud = wc.generate_from_frequencies(except_word)\n",
    "    \n",
    "    plt.figure(figsize=(10,10))\n",
    "    plt.imshow(img_wordcloud)\n",
    "    plt.axis(\"off\")\n",
    "    # plt.show()\n",
    "    plt.savefig(f'../First_project/dataes/wordcloud_img/{dept_cds[i]}')"
   ]
  }
 ],
 "metadata": {
  "kernelspec": {
   "display_name": "Python 3 (ipykernel)",
   "language": "python",
   "name": "python3"
  },
  "language_info": {
   "codemirror_mode": {
    "name": "ipython",
    "version": 3
   },
   "file_extension": ".py",
   "mimetype": "text/x-python",
   "name": "python",
   "nbconvert_exporter": "python",
   "pygments_lexer": "ipython3",
   "version": "3.11.5"
  }
 },
 "nbformat": 4,
 "nbformat_minor": 5
}
